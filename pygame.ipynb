{
 "cells": [
  {
   "cell_type": "code",
   "execution_count": 1,
   "metadata": {},
   "outputs": [
    {
     "name": "stdout",
     "output_type": "stream",
     "text": [
      "pygame 2.1.2 (SDL 2.0.18, Python 3.8.5)\n",
      "Hello from the pygame community. https://www.pygame.org/contribute.html\n"
     ]
    }
   ],
   "source": [
    "import sys\n",
    "import pygame\n",
    "\n",
    "from pygame.locals import *"
   ]
  },
  {
   "cell_type": "code",
   "execution_count": 2,
   "metadata": {},
   "outputs": [],
   "source": [
    "WHITE = (255, 255, 255)\n",
    "pad_width = 1024\n",
    "pad_height = 512\n",
    "background_width = 1024\n",
    "\n",
    "def back(background, x, y):\n",
    "    global gamepad\n",
    "    gamepad.blit(background, (x, y))\n",
    "\n",
    "def airplane(x, y):\n",
    "    global gamepad, aircraft\n",
    "    gamepad.blit(aircraft, (x, y))\n",
    "\n",
    "def runGame():\n",
    "    global gamepad, aircraft, clock, background1, background2\n",
    "    \n",
    "    x = pad_width * 0.05\n",
    "    y = pad_height * 0.8\n",
    "    y_change = 0\n",
    "    \n",
    "    background1_x = 0\n",
    "    background2_x = background_width\n",
    "    \n",
    "    crashed = False\n",
    "    while not crashed:\n",
    "        for event in pygame.event.get():\n",
    "            if event.type == pygame.QUIT:\n",
    "                crashed = True\n",
    "            \n",
    "            if event.type == pygame.KEYDOWN:\n",
    "                if event.key == pygame.K_UP:\n",
    "                    y_change = -5\n",
    "                elif event.key == pygame.K_DOWN:\n",
    "                    y_change = 5\n",
    "            \n",
    "            if event.type == pygame.KEYUP:\n",
    "                if event.key == pygame.K_UP or event.key == pygame.K_DOWN:\n",
    "                    y_change = 0\n",
    "        \n",
    "        y += y_change\n",
    "        gamepad.fill(WHITE)\n",
    "        \n",
    "        background1_x -= 2\n",
    "        background2_x -= 2\n",
    "        if background1_x == -background_width:\n",
    "            background1_x = background_width\n",
    "        if background2_x == -background_width:\n",
    "            background2_x = background_width\n",
    "            \n",
    "        back(background1, background1_x, 0)\n",
    "        back(background2, background2_x, 0)\n",
    "        \n",
    "        airplane(x, y)\n",
    "        pygame.display.update()\n",
    "        clock.tick(60)\n",
    "    \n",
    "    pygame.quit()\n",
    "    \n",
    "\n",
    "def initGame():\n",
    "    global gamepad, aircraft, clock, background1, background2\n",
    "    \n",
    "    pygame.init()\n",
    "    gamepad = pygame.display.set_mode((pad_width, pad_height))\n",
    "    pygame.display.set_caption('PyFlying')\n",
    "    aircraft = pygame.image.load('images/plane.png')\n",
    "    background1 = pygame.image.load('images/background.png')\n",
    "    background1 = pygame.transform.scale(background1, (1024, 512))\n",
    "    background2 = background1.copy()\n",
    "    \n",
    "    clock = pygame.time.Clock()\n",
    "    runGame()\n",
    "\n",
    "initGame()"
   ]
  }
 ],
 "metadata": {
  "kernelspec": {
   "display_name": "Python 3",
   "language": "python",
   "name": "python3"
  },
  "language_info": {
   "codemirror_mode": {
    "name": "ipython",
    "version": 3
   },
   "file_extension": ".py",
   "mimetype": "text/x-python",
   "name": "python",
   "nbconvert_exporter": "python",
   "pygments_lexer": "ipython3",
   "version": "3.8.5"
  }
 },
 "nbformat": 4,
 "nbformat_minor": 4
}
